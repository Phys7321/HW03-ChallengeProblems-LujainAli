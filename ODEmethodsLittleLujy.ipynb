{
 "cells": [
  {
   "cell_type": "markdown",
   "metadata": {},
   "source": [
    "---\n",
    "author:\n",
    "- 'Adrian E. Feiguin', modified by Tom Kelley\n",
    "\n",
    "title: 'Computational Physics'\n",
    "...\n",
    "\n",
    "Ordinary differential equations\n",
    "=========================================\n",
    "\n",
    "Let’s consider a simple 1st order equation: \n",
    "$$\\frac{dy}{dx}=f(x,y)$$\n",
    "\n",
    "To solve this equation with a computer we need to **discretize** the differences: we\n",
    "have to convert the differential equation into a “**finite differences**” equation. The simplest\n",
    "solution is Euler’s method.\n",
    "\n",
    "Euler’s method\n",
    "--------------\n",
    "\n",
    "Suppose that at a point $x_0$, the function $f$ has a value $y_0$. We\n",
    "want to find the approximate value of $y$ in a point $x_1$ close to\n",
    "$x_0$, $x_1=x_0+\\Delta x$, with $\\Delta x$ small. We assume that $f$,\n",
    "the rate of change of $y$, is constant in this interval $\\Delta x$.\n",
    "Therefore we find: $$\\begin{eqnarray}\n",
    "&& dx \\approx \\Delta x &=&x_1-x_0, \\\\\n",
    "&& dy \\approx \\Delta y &=&y_1-y_0,\\end{eqnarray}$$ with\n",
    "$y_1=y(x_1)=y(x_0+\\Delta x)$. Then we re-write the differential equation in terms of discrete differences as:\n",
    "$$\\frac{\\Delta y}{\\Delta x}=f(x,y)$$ or \n",
    "$$\\Delta y = f(x,y)\\Delta x$$\n",
    "and approximate the value of $y_1$ as\n",
    "$$y_1=y_0+f(x_0,y_0)(x_1-x_0)$$ We can generalize this formula to find\n",
    "the value of $y$ at $x_2=x_1+\\Delta x$ as\n",
    "$$y_{2}=y_1+f(x_1,y_1)\\Delta x,$$ or in the general case:\n",
    "$$y_{n+1}=y_n+f(x_n,y_n)\\Delta x$$\n",
    "\n",
    "This is a good approximation as long as $\\Delta x$ is “small”. What is\n",
    "small? Depends on the problem, but it is basically defined by the “rate\n",
    "of change”, or “smoothness” of $f$. $f(x)$ has to behave smoothly and\n",
    "without rapid variations in the interval $\\Delta x$.\n",
    "\n",
    "Notice that Euler’s method is equivalent to a 1st order Taylor expansion\n",
    "about the point $x_0$. The “local error” calculating $x_1$ is then\n",
    "$O(\\Delta x^2)$. If we use the method $N$ times to calculate $N$\n",
    "consecutive points, the propagated “global” error will be\n",
    "$NO(\\Delta x^2)\\approx O(\\Delta \n",
    "x)$. This error decreases linearly with decreasing step, so we need to\n",
    "halve the step size to reduce the error in half. The numerical work for\n",
    "each step consists of a single evaluation of $f$."
   ]
  },
  {
   "cell_type": "markdown",
   "metadata": {},
   "source": [
    "### Exercise 1: Newton’s law of cooling \n",
    "\n",
    "If the temperature difference between an object and its surroundings is\n",
    "small, the rate of change of the temperature of the object is\n",
    "proportional to the temperature difference: $$\\frac{dT}{dt}=-r(T-T_s),$$\n",
    "where $T$ is the temperature of the body, $T_s$ is the temperature of\n",
    "the environment, and $r$ is a “cooling constant” that depends on the\n",
    "heat transfer mechanism, the contact area with the environment and the\n",
    "thermal properties of the body. The minus sign appears because if\n",
    "$T>T_s$, the temperature must decrease.\n",
    "\n",
    "Write a program to calculate the temperature of a body at a time $t$,\n",
    "given the cooling constant $r$ and the temperature of the body at time\n",
    "$t=0$. Plot the results for $r=0.1\\frac{1}{min}$; $T_s=83^{\\circ} C$, $T_0=10^{\\circ}$\n",
    "using different intervals $\\Delta t$ and compare with exact (analytical)\n",
    "results."
   ]
  },
  {
   "cell_type": "code",
   "execution_count": 2,
   "metadata": {
    "collapsed": true
   },
   "outputs": [],
   "source": [
    "T0 = 10.   # initial temperature, float (temperature of the body at time t=0)\n",
    "Ts = 83.   # temp. of the environment\n",
    "r = 0.1    # cooling rate\n",
    "dt = 0.05  # time step, different intervals \n",
    "tmax = 60. # maximum time\n",
    "nsteps = int(tmax/dt)  # number of steps, must be int "
   ]
  },
  {
   "cell_type": "code",
   "execution_count": 1,
   "metadata": {
    "scrolled": false
   },
   "outputs": [
    {
     "ename": "NameError",
     "evalue": "name 'T0' is not defined",
     "output_type": "error",
     "traceback": [
      "\u001b[0;31m---------------------------------------------------------------------------\u001b[0m",
      "\u001b[0;31mNameError\u001b[0m                                 Traceback (most recent call last)",
      "\u001b[0;32m<ipython-input-1-72b3b5cd37df>\u001b[0m in \u001b[0;36m<module>\u001b[0;34m()\u001b[0m\n\u001b[0;32m----> 1\u001b[0;31m \u001b[0mT\u001b[0m \u001b[0;34m=\u001b[0m \u001b[0mT0\u001b[0m\u001b[0;34m\u001b[0m\u001b[0m\n\u001b[0m\u001b[1;32m      2\u001b[0m \u001b[0;32mfor\u001b[0m \u001b[0mi\u001b[0m \u001b[0;32min\u001b[0m \u001b[0mrange\u001b[0m\u001b[0;34m(\u001b[0m\u001b[0;36m1\u001b[0m\u001b[0;34m,\u001b[0m\u001b[0mnsteps\u001b[0m\u001b[0;34m+\u001b[0m\u001b[0;36m1\u001b[0m\u001b[0;34m)\u001b[0m\u001b[0;34m:\u001b[0m\u001b[0;34m\u001b[0m\u001b[0m\n\u001b[1;32m      3\u001b[0m     \u001b[0mnew_T\u001b[0m \u001b[0;34m=\u001b[0m \u001b[0mT\u001b[0m \u001b[0;34m-\u001b[0m \u001b[0mr\u001b[0m\u001b[0;34m*\u001b[0m\u001b[0;34m(\u001b[0m\u001b[0mT\u001b[0m\u001b[0;34m-\u001b[0m\u001b[0mTs\u001b[0m\u001b[0;34m)\u001b[0m\u001b[0;34m*\u001b[0m\u001b[0mdt\u001b[0m\u001b[0;34m\u001b[0m\u001b[0m\n\u001b[1;32m      4\u001b[0m     \u001b[0mT\u001b[0m \u001b[0;34m=\u001b[0m \u001b[0mnew_T\u001b[0m\u001b[0;34m\u001b[0m\u001b[0m\n\u001b[1;32m      5\u001b[0m     \u001b[0;31m#print (i,i*dt, T)\u001b[0m\u001b[0;34m\u001b[0m\u001b[0;34m\u001b[0m\u001b[0m\n",
      "\u001b[0;31mNameError\u001b[0m: name 'T0' is not defined"
     ]
    }
   ],
   "source": [
    "T = T0\n",
    "for i in range(1,nsteps+1):\n",
    "    new_T = T - r*(T-Ts)*dt\n",
    "    T = new_T\n",
    "    #print (i,i*dt, T) \n",
    "    # we can also do t = t - r*(t-ts)*dt, it would save some memory and processing time.\n",
    "  "
   ]
  },
  {
   "cell_type": "markdown",
   "metadata": {},
   "source": [
    "Let's try plotting the results. We first need to import the required libraries and methods"
   ]
  },
  {
   "cell_type": "code",
   "execution_count": 3,
   "metadata": {
    "collapsed": true
   },
   "outputs": [],
   "source": [
    "%matplotlib inline\n",
    "import numpy as np\n",
    "from matplotlib import pyplot "
   ]
  },
  {
   "cell_type": "markdown",
   "metadata": {},
   "source": [
    "Next, we create numpy arrays to store the (x,y) values "
   ]
  },
  {
   "cell_type": "code",
   "execution_count": 4,
   "metadata": {},
   "outputs": [],
   "source": [
    "my_time = np.zeros(nsteps)\n",
    "my_temp = np.zeros(nsteps)"
   ]
  },
  {
   "cell_type": "markdown",
   "metadata": {},
   "source": [
    "We have to re write the loop to store the values in the arrays. Remember that numpy arrays start from 0."
   ]
  },
  {
   "cell_type": "code",
   "execution_count": 5,
   "metadata": {},
   "outputs": [],
   "source": [
    "T = T0\n",
    "my_temp[0] = T0\n",
    "for i in range(1,nsteps):\n",
    "    T = T - r*(T-Ts)*dt\n",
    "    my_time[i] = i*dt\n",
    "    my_temp[i] = T\n",
    "    "
   ]
  },
  {
   "cell_type": "code",
   "execution_count": 6,
   "metadata": {},
   "outputs": [
    {
     "data": {
      "image/png": "[encoded data removed]",
      "text/plain": [
       "<matplotlib.figure.Figure at 0x103e2a9d0>"
      ]
     },
     "metadata": {},
     "output_type": "display_data"
    }
   ],
   "source": [
    "pyplot.plot(my_time, my_temp, color='#003366', ls='-', lw=3)\n",
    "pyplot.xlabel('time')\n",
    "pyplot.ylabel('temperature');"
   ]
  },
  {
   "cell_type": "markdown",
   "metadata": {},
   "source": [
    "We could have saved effort by defining"
   ]
  },
  {
   "cell_type": "code",
   "execution_count": 80,
   "metadata": {
    "collapsed": true
   },
   "outputs": [],
   "source": [
    "my_time = np.linspace(0.,tmax,nsteps)"
   ]
  },
  {
   "cell_type": "code",
   "execution_count": 81,
   "metadata": {},
   "outputs": [
    {
     "data": {
      "image/png": "[encoded data removed]",
      "text/plain": [
       "<matplotlib.figure.Figure at 0x1068ed490>"
      ]
     },
     "metadata": {},
     "output_type": "display_data"
    }
   ],
   "source": [
    "pyplot.plot(my_time, my_temp, color='#003366', ls='-', lw=3)\n",
    "pyplot.xlabel('time')\n",
    "pyplot.ylabel('temperature');"
   ]
  },
  {
   "cell_type": "markdown",
   "metadata": {},
   "source": [
    "Alternatively, and in order to re use code in future problems, we could have created a function."
   ]
  },
  {
   "cell_type": "code",
   "execution_count": 9,
   "metadata": {
    "collapsed": true
   },
   "outputs": [],
   "source": [
    "def euler(y, f, dx):\n",
    "    \"\"\"Computes y_new = y + f*dx\n",
    "    \n",
    "    Parameters\n",
    "    ----------\n",
    "    y  : float\n",
    "        old value of y_n at x_n\n",
    "    f  : float\n",
    "        first derivative f(x,y) evaluated at (x_n,y_n)\n",
    "    dx : float\n",
    "        x step\n",
    "    \"\"\"\n",
    "    \n",
    "    return y + f*dx"
   ]
  },
  {
   "cell_type": "code",
   "execution_count": 11,
   "metadata": {
    "collapsed": true
   },
   "outputs": [],
   "source": [
    "T = T0\n",
    "for i in range(1,nsteps):\n",
    "    T = euler(T, -r*(T-Ts), dt) \n",
    "    my_temp[i] = T\n"
   ]
  },
  {
   "cell_type": "markdown",
   "metadata": {
    "collapsed": true
   },
   "source": [
    "Actually, for this particularly simple case, calling a function may introduce unecessary overhead, but it is a an example that we will find useful for future applications. For a simple function like this we could have used a \"lambda\" function (more about lambda functions <a href=\"http://www.secnetix.de/olli/Python/lambda_functions.hawk\">here</a>)."
   ]
  },
  {
   "cell_type": "code",
   "execution_count": 12,
   "metadata": {},
   "outputs": [],
   "source": [
    "euler = lambda y, f, dx: y + f*dx "
   ]
  },
  {
   "cell_type": "markdown",
   "metadata": {},
   "source": [
    "Now, let's study the effects of different time steps on the convergence:"
   ]
  },
  {
   "cell_type": "code",
   "execution_count": 21,
   "metadata": {},
   "outputs": [
    {
     "data": {
      "image/png": "[encoded data removed]",
      "text/plain": [
       "<matplotlib.figure.Figure at 0x107023bd0>"
      ]
     },
     "metadata": {},
     "output_type": "display_data"
    }
   ],
   "source": [
    "dt = 1.\n",
    "#my_color = ['#003366','#663300','#660033','#330066']\n",
    "my_color = ['red', 'green', 'blue', 'black']\n",
    "for j in range(0,4):\n",
    "    nsteps = int(tmax/dt)    #the arrays will have different size for different time steps\n",
    "    my_time = np.linspace(dt,tmax,nsteps) \n",
    "    my_temp = np.zeros(nsteps)\n",
    "    T = T0\n",
    "    for i in range(1,nsteps):\n",
    "        T = euler(T, -r*(T-Ts), dt)\n",
    "        my_temp[i] = T\n",
    "        \n",
    "    pyplot.plot(my_time, my_temp, color=my_color[j], ls='-', lw=3)\n",
    "    dt = dt/2.\n",
    "# we wanna plot the temperature at 10 for each line vs dt \n",
    "pyplot.xlabel('time');\n",
    "pyplot.ylabel('temperature');\n",
    "pyplot.xlim(8,10)\n",
    "pyplot.ylim(48,58);"
   ]
  },
  {
   "cell_type": "markdown",
   "metadata": {},
   "source": [
    "### Challenge 2.1\n",
    "\n",
    "To properly study convergence, one possibility it so look at the result at a given time, for different time steps. Modify the previous program to print the temperature at $t=10$ as a function of $\\Delta t$. "
   ]
  },
  {
   "cell_type": "markdown",
   "metadata": {
    "collapsed": true
   },
   "source": [
    "Higher order: Taylor’s series\n",
    "-----------------------------\n",
    "\n",
    "We can go a step beyond Euler’s method keeping up to second order terms\n",
    "in the expansion around $x_0$. Doing so we obtain\n",
    "$$y(x+\\Delta x)=y(x)+y'(x)\\Delta x+\\frac{1}{2}y''(x)(\\Delta x)^2+O(\\Delta \n",
    "x^3)\n",
    "$$ from the ODE we get $$\\begin{eqnarray}\n",
    "y'(x)&=&f(x,y), \\\\\n",
    "y''(x)&=&\\frac{df}{dx}=\\frac{\\partial f}{\\partial x}+\\frac{\\partial \n",
    "f}{\\partial y}\\frac{dy}{dx}=\\frac{\\partial f}{\\partial \n",
    "x}+\\frac{\\partial f}{\\partial y} f \\end{eqnarray}$$\n",
    "\n",
    "Substituting in the Taylor expansion we obtain\n",
    "\n",
    "$$y_{n+1}=y_n+f\\Delta x+\\frac{1}{2}(\\Delta x)^2[\\frac{\\partial \n",
    "f}{\\partial x}+f\\frac{\\partial f}{\\partial y}]+O(\\Delta x^3),$$\n",
    "\n",
    "where all the functions and derivatives are evaluated in $(x_n,y_n)$.\n",
    "\n",
    "Multistep or Predictor-Corrector methods\n",
    "----------------------------------------\n",
    "\n",
    "We can achieve higher accuracy by relating $y_{n+1}$ not only to $y_n$,\n",
    "but also to points further in the past $y_{n-1},y_{n-2},...$ To derive\n",
    "such formulas we can formally integrate exactly the equation of motion to obtain:\n",
    "$$y_{n+1}=y_n+\\int_{x_n}^{x_{n+1}}f(x,y)dx$$\n",
    "\n",
    "The problem is that we don’t know $f(x,y)$ over the interval\n",
    "$(x_n,x_{n+1})$. However, we can use the values of $y$ at $x_n$ and\n",
    "$x_{n-1}$ to provide a linear extrapolation:\n",
    "$$f=\\frac{(x-x_{n-1})}{\\Delta x}f_n-\\frac{(x-x_n)}{\\Delta x} \n",
    "f_{n-1}+O(\\Delta x^2),$$ with $f_n=f(x_n,y_n)$. Inserting into\n",
    "the integral we obtain\n",
    "$$y_{n+1}=y_n+\\Delta x(\\frac{3}{2}f_n-\\frac{1}{2}f_{n-1})+O(\\Delta x^3)$$\n",
    "Note that the value of $y_0$ is not sufficient information to get this\n",
    "algorithm started. The value of $y_1$ has to be obtained first by some\n",
    "other procedure, like the ones described previously. This means that the\n",
    "method is not **\"self starting\"**.\n",
    "\n",
    "Runge-Kutta methods\n",
    "-------------------\n",
    "\n",
    "### 2nd order Runge-Kutta\n",
    "\n",
    "Euler’s method rests on the idea that the slope at one point can be used\n",
    "to extrapolate to the next. A plausible idea to make a better estimate\n",
    "of the slope is to extrapolate to a point halfway across the interval,\n",
    "and then to use the derivative at this point to extrapolate across the\n",
    "whole interval. Thus,\n",
    "\n",
    "$$\\begin{eqnarray}\n",
    "k&=&\\Delta x f(x_n,y_x), \\\\\n",
    "y_{n+1}&=&y_n+\\Delta x f(x+\\Delta x/2, y_n+k/2) + O(\\Delta \n",
    "x^3).\\end{eqnarray}$$\n",
    "\n",
    "It has the same accuracy as the Taylor series. It requires\n",
    "the evaluation of $f$ twice for each step.\n",
    "\n",
    "### 4th order Runge-Kutta\n",
    "\n",
    "Similar ideas can be used to derive a 3rd or 4th order Runge-Kutta\n",
    "method. It has been found by experience that the best balance between\n",
    "accuracy and computational effort is given by a fourth-order algorithm.\n",
    "Such a method would require evaluating $f$ four times at each step, with\n",
    "a local accuracy of $O(\\Delta x^5)$. It can be written as follows:\n",
    "$$\\begin{eqnarray}\n",
    " k_1&=&\\Delta x f(x_n,y_n), \\\\\n",
    " k_2&=&\\Delta x f(x_n+\\Delta x/2,y_n+k_1/2), \\\\\n",
    " k_3&=&\\Delta x f(x_n+\\Delta x/2,y_n+k_2/2), \\\\\n",
    " k_4&=&\\Delta x f(x_n+\\Delta x,y_n+k_3), \\\\\n",
    " y_{n+1}&=&y_n+\\frac{1}{6}(k_1+2k_2+2k_3+k_4)+O(\\Delta x^5).\\end{eqnarray}$$\n",
    "\n",
    "Runge-Kutta method are self-staring, meaning that they can be used to\n",
    "obtain the first few iterations for a non self-starting algorithm."
   ]
  },
  {
   "cell_type": "code",
   "execution_count": null,
   "metadata": {},
   "outputs": [],
   "source": [
    "#Challenge 2.1: so look at the result at a given time, for different time steps. Modify the previous program to print the temperature at  t=10  as a function of Δt \n",
    "\n",
    "import numpy as np\n",
    "from matplotlib import plt\n",
    "\n",
    "T0 = 10.   # initial temperature\n",
    "Ts = 83.   # temp. of the environment\n",
    "r = 0.1    # cooling rate\n",
    "dt = 0.05  # time step\n",
    "tmax = 60. # maximum time (a given time)\n",
    "nsteps = int(tmax/dt)  # number of steps\n",
    "\n",
    "my_time = np.zeros(nsteps)\n",
    "my_temp = np.zeros(nsteps)  \n",
    "T = T0\n",
    "for i in range(1,nsteps+1):\n",
    "    new_T = T - r*(T-Ts)*dt\n",
    "    T = new_T\n",
    "    #print (i,i*dt, T) \n",
    "\n",
    "pyplot.plot(my_time, my_temp, color='#003366', ls='-', lw=3)\n",
    "pyplot.xlabel('time')\n",
    "pyplot.ylabel('temperature');\n",
    "\n",
    "#my_time = np.linspace(0.,tmax,nsteps)\n",
    "#pyplot.plot(my_time, my_temp, color='#003366', ls='-', lw=3)\n",
    "#pyplot.xlabel('time')\n",
    "#pyplot.ylabel('temperature');\n",
    "\n",
    "dt = 1.\n",
    "#my_color = ['#003366','#663300','#660033','#330066']\n",
    "my_color = ['red', 'green', 'blue', 'black']\n",
    "for j in range(0,4):\n",
    "    nsteps = int(tmax/dt)    #the arrays will have different size for different time steps\n",
    "    my_time = np.linspace(dt,tmax,nsteps) \n",
    "    my_temp = np.zeros(nsteps)\n",
    "    T = T0\n",
    "    for i in range(1,nsteps):\n",
    "        T = euler(T, -r*(T-Ts), dt)\n",
    "        my_temp[i] = T\n",
    "        \n",
    "    pyplot.plot(my_time, my_temp, color=my_color[j], ls='-', lw=3)\n",
    "    dt = dt/2.\n",
    "# we wanna plot the temperature at 10 for each line vs dt \n",
    "pyplot.xlabel('time');\n",
    "pyplot.ylabel('temperature');\n",
    "pyplot.xlim(8,10)\n",
    "pyplot.ylim(48,58);"
   ]
  },
  {
   "cell_type": "markdown",
   "metadata": {},
   "source": [
    "### Challenge 2.2\n",
    "\n",
    "Repeat the calculation in Challenge 2.1 using 4th order Runge-Kutta"
   ]
  },
  {
   "cell_type": "code",
   "execution_count": null,
   "metadata": {},
   "outputs": [],
   "source": []
  }
 ],
 "metadata": {
  "kernelspec": {
   "display_name": "Python 3",
   "language": "python",
   "name": "python3"
  },
  "language_info": {
   "codemirror_mode": {
    "name": "ipython",
    "version": 3
   },
   "file_extension": ".py",
   "mimetype": "text/x-python",
   "name": "python",
   "nbconvert_exporter": "python",
   "pygments_lexer": "ipython3",
   "version": "3.6.4"
  }
 },
 "nbformat": 4,
 "nbformat_minor": 1
}
